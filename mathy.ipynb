{
 "cells": [
  {
   "cell_type": "code",
   "execution_count": 2,
   "id": "17175b5c",
   "metadata": {},
   "outputs": [],
   "source": [
    "import math"
   ]
  },
  {
   "cell_type": "code",
   "execution_count": 3,
   "id": "34b63ac8",
   "metadata": {},
   "outputs": [
    {
     "name": "stdout",
     "output_type": "stream",
     "text": [
      "3.141592653589793\n",
      "3.14\n"
     ]
    }
   ],
   "source": [
    "#Acessar o número Pi\n",
    "print(math.pi)\n",
    "print(f'{math.pi:.2f}')"
   ]
  },
  {
   "cell_type": "code",
   "execution_count": 5,
   "id": "d27f044d",
   "metadata": {},
   "outputs": [
    {
     "name": "stdout",
     "output_type": "stream",
     "text": [
      "2.718281828459045\n",
      "2.72\n"
     ]
    }
   ],
   "source": [
    "#Acessar o número de Euler\n",
    "print(math.e)\n",
    "print(f'{math.e:.2f}')"
   ]
  },
  {
   "cell_type": "code",
   "execution_count": 6,
   "id": "216cca4a",
   "metadata": {},
   "outputs": [
    {
     "name": "stdout",
     "output_type": "stream",
     "text": [
      "11\n",
      "10\n"
     ]
    }
   ],
   "source": [
    "#Arredondando números para cima e para baixo\n",
    "num = 10.4\n",
    "print(math.ceil(num))\n",
    "print(math.floor(num))"
   ]
  },
  {
   "cell_type": "code",
   "execution_count": 7,
   "id": "61a84a0d",
   "metadata": {},
   "outputs": [
    {
     "name": "stdout",
     "output_type": "stream",
     "text": [
      "120\n"
     ]
    }
   ],
   "source": [
    "#Fatorial de um número\n",
    "num2 = int(input('Digie um número: '))\n",
    "print(math.factorial(num2))"
   ]
  },
  {
   "cell_type": "code",
   "execution_count": 8,
   "id": "2d968b62",
   "metadata": {},
   "outputs": [
    {
     "name": "stdout",
     "output_type": "stream",
     "text": [
      "256.0\n"
     ]
    }
   ],
   "source": [
    "#Potência de um número\n",
    "print(math.pow(2, 8))"
   ]
  },
  {
   "cell_type": "code",
   "execution_count": 9,
   "id": "0a3885aa",
   "metadata": {},
   "outputs": [
    {
     "name": "stdout",
     "output_type": "stream",
     "text": [
      "13.0\n"
     ]
    }
   ],
   "source": [
    "#Raiz quadrada de um número\n",
    "print(math.sqrt(169))"
   ]
  },
  {
   "cell_type": "code",
   "execution_count": 11,
   "id": "7e81f013",
   "metadata": {},
   "outputs": [
    {
     "name": "stdout",
     "output_type": "stream",
     "text": [
      "20\n"
     ]
    }
   ],
   "source": [
    "#MDC\n",
    "mdc = math.gcd(20, 100)\n",
    "print(mdc)"
   ]
  },
  {
   "cell_type": "code",
   "execution_count": 12,
   "id": "112d0146",
   "metadata": {},
   "outputs": [
    {
     "name": "stdout",
     "output_type": "stream",
     "text": [
      "2.302585092994046\n"
     ]
    }
   ],
   "source": [
    "#Logaritmo\n",
    "print(math.log(10))"
   ]
  },
  {
   "cell_type": "code",
   "execution_count": 13,
   "id": "b77ca7ed",
   "metadata": {},
   "outputs": [],
   "source": [
    "import statistics"
   ]
  },
  {
   "cell_type": "code",
   "execution_count": 14,
   "id": "1a0816e4",
   "metadata": {},
   "outputs": [
    {
     "name": "stdout",
     "output_type": "stream",
     "text": [
      "5\n"
     ]
    }
   ],
   "source": [
    "#Aplicando a média \n",
    "print(statistics.mean([3,2,3,8,9]))"
   ]
  },
  {
   "cell_type": "code",
   "execution_count": 15,
   "id": "a5d5b6bb",
   "metadata": {},
   "outputs": [
    {
     "name": "stdout",
     "output_type": "stream",
     "text": [
      "4\n",
      "5.0\n"
     ]
    }
   ],
   "source": [
    "#Aplicando a mediana\n",
    "print(statistics.median([1,2,4,8,9]))\n",
    "print(statistics.median([1,2,3,7,8,9]))"
   ]
  },
  {
   "cell_type": "code",
   "execution_count": 16,
   "id": "5b63093a",
   "metadata": {},
   "outputs": [
    {
     "name": "stdout",
     "output_type": "stream",
     "text": [
      "2\n"
     ]
    }
   ],
   "source": [
    "#Aplicando a moda\n",
    "print(statistics.mode([2,5,3,2,8,3,9,4,2,5,6]))"
   ]
  },
  {
   "cell_type": "code",
   "execution_count": 17,
   "id": "55f1a4f6",
   "metadata": {},
   "outputs": [
    {
     "name": "stdout",
     "output_type": "stream",
     "text": [
      "1.224744871391589\n"
     ]
    }
   ],
   "source": [
    "#Desvio padrão\n",
    "#Quanto mais próximo de 0 for o desvio padrão, significa que os dados do conjunto estão menos dispersos\n",
    "print(statistics.stdev([1,1.5,2,2.5,3,3.5,4,4.5]))"
   ]
  },
  {
   "cell_type": "code",
   "execution_count": 18,
   "id": "cd983b2a",
   "metadata": {},
   "outputs": [],
   "source": [
    "import re"
   ]
  },
  {
   "cell_type": "code",
   "execution_count": 19,
   "id": "cb270ec2",
   "metadata": {},
   "outputs": [
    {
     "name": "stdout",
     "output_type": "stream",
     "text": [
      "Índice inicial: 8\n",
      "Índice final: 22\n"
     ]
    }
   ],
   "source": [
    "text = 'Udemy - uma plataforma com muitos cursos'\n",
    "#Índice inicial e final de palavras\n",
    "#O r significa uma row string (string bruto)\n",
    "match = re.search(r'uma plataforma', text)\n",
    "print(f'Índice inicial: {match.start()}')\n",
    "print(f'Índice final: {match.end()}')"
   ]
  },
  {
   "cell_type": "code",
   "execution_count": 20,
   "id": "274e14f1",
   "metadata": {},
   "outputs": [
    {
     "name": "stdout",
     "output_type": "stream",
     "text": [
      "<re.Match object; span=(13, 14), match='.'>\n"
     ]
    }
   ],
   "source": [
    "#Buscando o índice que possui o ponto\n",
    "site = 'https://udemy.com'\n",
    "match = re.search(r'\\.', site)\n",
    "print(match)"
   ]
  },
  {
   "cell_type": "code",
   "execution_count": 21,
   "id": "9e99ee7b",
   "metadata": {},
   "outputs": [
    {
     "name": "stdout",
     "output_type": "stream",
     "text": [
      "['m', 'm', 'l', 'm', 'm', 'm', 'i']\n"
     ]
    }
   ],
   "source": [
    "#Buscando uma lista de caracteres dentro de uma frase\n",
    "pattern = '[g-m]'\n",
    "result = re.findall(pattern, text)\n",
    "print(result)"
   ]
  },
  {
   "cell_type": "code",
   "execution_count": 22,
   "id": "17c102c3",
   "metadata": {},
   "outputs": [
    {
     "name": "stdout",
     "output_type": "stream",
     "text": [
      "Corresponde: A casa esta suja\n",
      "Não corresponde: O dia está lindo\n",
      "Não corresponde: Vamos passear\n"
     ]
    }
   ],
   "source": [
    "#Verificando o início de uma string\n",
    "rule = r'^A'\n",
    "phrases = ['A casa esta suja', 'O dia está lindo', 'Vamos passear']\n",
    "for f in phrases:\n",
    "    if re.match(rule, f):\n",
    "        print(f'Corresponde: {f}')\n",
    "    else:\n",
    "        print(f'Não corresponde: {f}')"
   ]
  },
  {
   "cell_type": "code",
   "execution_count": null,
   "id": "5644f304",
   "metadata": {},
   "outputs": [],
   "source": []
  }
 ],
 "metadata": {
  "kernelspec": {
   "display_name": "base",
   "language": "python",
   "name": "python3"
  },
  "language_info": {
   "codemirror_mode": {
    "name": "ipython",
    "version": 3
   },
   "file_extension": ".py",
   "mimetype": "text/x-python",
   "name": "python",
   "nbconvert_exporter": "python",
   "pygments_lexer": "ipython3",
   "version": "3.11.7"
  }
 },
 "nbformat": 4,
 "nbformat_minor": 5
}
