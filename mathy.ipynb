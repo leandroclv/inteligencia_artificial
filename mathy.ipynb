{
 "cells": [
  {
   "cell_type": "code",
   "execution_count": 2,
   "id": "17175b5c",
   "metadata": {},
   "outputs": [],
   "source": [
    "import math"
   ]
  },
  {
   "cell_type": "code",
   "execution_count": 3,
   "id": "34b63ac8",
   "metadata": {},
   "outputs": [
    {
     "name": "stdout",
     "output_type": "stream",
     "text": [
      "3.141592653589793\n",
      "3.14\n"
     ]
    }
   ],
   "source": [
    "#Acessar o número Pi\n",
    "print(math.pi)\n",
    "print(f'{math.pi:.2f}')"
   ]
  },
  {
   "cell_type": "code",
   "execution_count": 5,
   "id": "d27f044d",
   "metadata": {},
   "outputs": [
    {
     "name": "stdout",
     "output_type": "stream",
     "text": [
      "2.718281828459045\n",
      "2.72\n"
     ]
    }
   ],
   "source": [
    "#Acessar o número de Euler\n",
    "print(math.e)\n",
    "print(f'{math.e:.2f}')"
   ]
  },
  {
   "cell_type": "code",
   "execution_count": 6,
   "id": "216cca4a",
   "metadata": {},
   "outputs": [
    {
     "name": "stdout",
     "output_type": "stream",
     "text": [
      "11\n",
      "10\n"
     ]
    }
   ],
   "source": [
    "#Arredondando números para cima e para baixo\n",
    "num = 10.4\n",
    "print(math.ceil(num))\n",
    "print(math.floor(num))"
   ]
  },
  {
   "cell_type": "code",
   "execution_count": 7,
   "id": "61a84a0d",
   "metadata": {},
   "outputs": [
    {
     "name": "stdout",
     "output_type": "stream",
     "text": [
      "120\n"
     ]
    }
   ],
   "source": [
    "#Fatorial de um número\n",
    "num2 = int(input('Digie um número: '))\n",
    "print(math.factorial(num2))"
   ]
  },
  {
   "cell_type": "code",
   "execution_count": 8,
   "id": "2d968b62",
   "metadata": {},
   "outputs": [
    {
     "name": "stdout",
     "output_type": "stream",
     "text": [
      "256.0\n"
     ]
    }
   ],
   "source": [
    "#Potência de um número\n",
    "print(math.pow(2, 8))"
   ]
  },
  {
   "cell_type": "code",
   "execution_count": 9,
   "id": "0a3885aa",
   "metadata": {},
   "outputs": [
    {
     "name": "stdout",
     "output_type": "stream",
     "text": [
      "13.0\n"
     ]
    }
   ],
   "source": [
    "#Raiz quadrada de um número\n",
    "print(math.sqrt(169))"
   ]
  },
  {
   "cell_type": "code",
   "execution_count": 11,
   "id": "7e81f013",
   "metadata": {},
   "outputs": [
    {
     "name": "stdout",
     "output_type": "stream",
     "text": [
      "20\n"
     ]
    }
   ],
   "source": [
    "#MDC\n",
    "mdc = math.gcd(20, 100)\n",
    "print(mdc)"
   ]
  },
  {
   "cell_type": "code",
   "execution_count": 12,
   "id": "112d0146",
   "metadata": {},
   "outputs": [
    {
     "name": "stdout",
     "output_type": "stream",
     "text": [
      "2.302585092994046\n"
     ]
    }
   ],
   "source": [
    "#Logaritmo\n",
    "print(math.log(10))"
   ]
  },
  {
   "cell_type": "code",
   "execution_count": 13,
   "id": "b77ca7ed",
   "metadata": {},
   "outputs": [],
   "source": [
    "import statistics"
   ]
  },
  {
   "cell_type": "code",
   "execution_count": 14,
   "id": "1a0816e4",
   "metadata": {},
   "outputs": [
    {
     "name": "stdout",
     "output_type": "stream",
     "text": [
      "5\n"
     ]
    }
   ],
   "source": [
    "#Aplicando a média \n",
    "print(statistics.mean([3,2,3,8,9]))"
   ]
  },
  {
   "cell_type": "code",
   "execution_count": 15,
   "id": "a5d5b6bb",
   "metadata": {},
   "outputs": [
    {
     "name": "stdout",
     "output_type": "stream",
     "text": [
      "4\n",
      "5.0\n"
     ]
    }
   ],
   "source": [
    "#Aplicando a mediana\n",
    "print(statistics.median([1,2,4,8,9]))\n",
    "print(statistics.median([1,2,3,7,8,9]))"
   ]
  },
  {
   "cell_type": "code",
   "execution_count": 16,
   "id": "5b63093a",
   "metadata": {},
   "outputs": [
    {
     "name": "stdout",
     "output_type": "stream",
     "text": [
      "2\n"
     ]
    }
   ],
   "source": [
    "#Aplicando a moda\n",
    "print(statistics.mode([2,5,3,2,8,3,9,4,2,5,6]))"
   ]
  },
  {
   "cell_type": "code",
   "execution_count": 17,
   "id": "55f1a4f6",
   "metadata": {},
   "outputs": [
    {
     "name": "stdout",
     "output_type": "stream",
     "text": [
      "1.224744871391589\n"
     ]
    }
   ],
   "source": [
    "#Desvio padrão\n",
    "#Quanto mais próximo de 0 for o desvio padrão, significa que os dados do conjunto estão menos dispersos\n",
    "print(statistics.stdev([1,1.5,2,2.5,3,3.5,4,4.5]))"
   ]
  },
  {
   "cell_type": "code",
   "execution_count": 18,
   "id": "cd983b2a",
   "metadata": {},
   "outputs": [],
   "source": [
    "import re"
   ]
  },
  {
   "cell_type": "code",
   "execution_count": 19,
   "id": "cb270ec2",
   "metadata": {},
   "outputs": [
    {
     "name": "stdout",
     "output_type": "stream",
     "text": [
      "Índice inicial: 8\n",
      "Índice final: 22\n"
     ]
    }
   ],
   "source": [
    "text = 'Udemy - uma plataforma com muitos cursos'\n",
    "#Índice inicial e final de palavras\n",
    "#O r significa uma row string (string bruto)\n",
    "match = re.search(r'uma plataforma', text)\n",
    "print(f'Índice inicial: {match.start()}')\n",
    "print(f'Índice final: {match.end()}')"
   ]
  },
  {
   "cell_type": "code",
   "execution_count": 20,
   "id": "274e14f1",
   "metadata": {},
   "outputs": [
    {
     "name": "stdout",
     "output_type": "stream",
     "text": [
      "<re.Match object; span=(13, 14), match='.'>\n"
     ]
    }
   ],
   "source": [
    "#Buscando o índice que possui o ponto\n",
    "site = 'https://udemy.com'\n",
    "match = re.search(r'\\.', site)\n",
    "print(match)"
   ]
  },
  {
   "cell_type": "code",
   "execution_count": 21,
   "id": "9e99ee7b",
   "metadata": {},
   "outputs": [
    {
     "name": "stdout",
     "output_type": "stream",
     "text": [
      "['m', 'm', 'l', 'm', 'm', 'm', 'i']\n"
     ]
    }
   ],
   "source": [
    "#Buscando uma lista de caracteres dentro de uma frase\n",
    "pattern = '[g-m]'\n",
    "result = re.findall(pattern, text)\n",
    "print(result)"
   ]
  },
  {
   "cell_type": "code",
   "execution_count": 22,
   "id": "17c102c3",
   "metadata": {},
   "outputs": [
    {
     "name": "stdout",
     "output_type": "stream",
     "text": [
      "Corresponde: A casa esta suja\n",
      "Não corresponde: O dia está lindo\n",
      "Não corresponde: Vamos passear\n"
     ]
    }
   ],
   "source": [
    "#Verificando o início de uma string\n",
    "rule = r'^A'\n",
    "phrases = ['A casa esta suja', 'O dia está lindo', 'Vamos passear']\n",
    "for f in phrases:\n",
    "    if re.match(rule, f):\n",
    "        print(f'Corresponde: {f}')\n",
    "    else:\n",
    "        print(f'Não corresponde: {f}')"
   ]
  },
  {
   "cell_type": "code",
   "execution_count": 23,
   "id": "5644f304",
   "metadata": {},
   "outputs": [
    {
     "name": "stdout",
     "output_type": "stream",
     "text": [
      "Sim, corresponde\n"
     ]
    }
   ],
   "source": [
    "#Verificando o final de uma string\n",
    "rule_end = r'!$'\n",
    "phrases2 = 'O dia está lindo!'\n",
    "match = re.search(rule_end, phrases2)\n",
    "if match:\n",
    "    print('Sim, corresponde')\n",
    "else:\n",
    "    print('Não corresponde')"
   ]
  },
  {
   "cell_type": "code",
   "execution_count": 25,
   "id": "762fe0bd",
   "metadata": {},
   "outputs": [],
   "source": [
    "#Hashlib\n",
    "import hashlib"
   ]
  },
  {
   "cell_type": "code",
   "execution_count": 26,
   "id": "6ba7ef6c",
   "metadata": {},
   "outputs": [
    {
     "name": "stdout",
     "output_type": "stream",
     "text": [
      "{'sha3_224', 'sha224', 'md5-sha1', 'sha256', 'blake2s', 'shake_128', 'sha512', 'sha3_256', 'ripemd160', 'sha384', 'shake_256', 'sha512_224', 'sm3', 'md5', 'sha512_256', 'blake2b', 'sha3_384', 'sha3_512', 'sha1'}\n"
     ]
    }
   ],
   "source": [
    "#Verificar os algoritmos disponíveis\n",
    "print(hashlib.algorithms_available)"
   ]
  },
  {
   "cell_type": "code",
   "execution_count": 27,
   "id": "05cacc7b",
   "metadata": {},
   "outputs": [
    {
     "name": "stdout",
     "output_type": "stream",
     "text": [
      "{'sha256', 'blake2b', 'blake2s', 'sha3_224', 'shake_128', 'sha512', 'sha3_384', 'shake_256', 'sha3_512', 'sha224', 'sha3_256', 'sha1', 'md5', 'sha384'}\n"
     ]
    }
   ],
   "source": [
    "#Verificar algoritmos de acordo com SO\n",
    "print(hashlib.algorithms_guaranteed)"
   ]
  },
  {
   "cell_type": "code",
   "execution_count": 28,
   "id": "ca989fbd",
   "metadata": {},
   "outputs": [
    {
     "name": "stdout",
     "output_type": "stream",
     "text": [
      "b\"\\xe3\\xb0\\xc4B\\x98\\xfc\\x1c\\x14\\x9a\\xfb\\xf4\\xc8\\x99o\\xb9$'\\xaeA\\xe4d\\x9b\\x93L\\xa4\\x95\\x99\\x1bxR\\xb8U\"\n",
      "f11ff5f17fece76cb03b57b61961dedaae827f7e96e69653162272d165bde83e\n"
     ]
    }
   ],
   "source": [
    "#Utilizar o SHA256\n",
    "algorithm = hashlib.sha256()\n",
    "print(algorithm.digest())\n",
    "message = 'A melhor forma de prever o futuro é criá-lo'.encode()\n",
    "algorithm.update(message)\n",
    "print(algorithm.hexdigest())"
   ]
  },
  {
   "cell_type": "code",
   "execution_count": 29,
   "id": "f65c6f6b",
   "metadata": {},
   "outputs": [
    {
     "name": "stdout",
     "output_type": "stream",
     "text": [
      "70ac1d219eb0a8f0e4eeaf9e2788195b\n"
     ]
    }
   ],
   "source": [
    "#Utilizando o MD5\n",
    "md5 = hashlib.md5()\n",
    "md5.update(message)\n",
    "print(md5.hexdigest())"
   ]
  },
  {
   "cell_type": "code",
   "execution_count": 31,
   "id": "051a62c6",
   "metadata": {},
   "outputs": [],
   "source": [
    "#Collections\n",
    "from collections import Counter, namedtuple, deque\n",
    "from operator import itemgetter"
   ]
  },
  {
   "cell_type": "code",
   "execution_count": 32,
   "id": "8ebdfb23",
   "metadata": {},
   "outputs": [
    {
     "name": "stdout",
     "output_type": "stream",
     "text": [
      "Counter({'banana': 4, 'uva': 3, 'maça': 2, 'pera': 2, 'laranja': 1, 'abacaxi': 1, 'tangerina': 1})\n"
     ]
    }
   ],
   "source": [
    "#Lista de frutas (Contagem)\n",
    "fruits = ['maça', 'banana', 'uva', 'pera', 'banana', 'uva', 'maça', 'laranja', 'banana', 'abacaxi', 'tangerina', 'uva', 'pera', 'banana']\n",
    "print(Counter(fruits))"
   ]
  },
  {
   "cell_type": "code",
   "execution_count": 34,
   "id": "3cc68d48",
   "metadata": {},
   "outputs": [
    {
     "name": "stdout",
     "output_type": "stream",
     "text": [
      "game(name='Fifa 23', price=90.5, note=8.5)\n",
      "game(name='Resident evil 4 remake', price=300, note=10.0)\n"
     ]
    }
   ],
   "source": [
    "#Utilizando tupla nomeada\n",
    "game = namedtuple('game',['name', 'price', 'note'])\n",
    "g1 = game('Fifa 23', 90.50, 8.5)\n",
    "g2 = game('Resident evil 4 remake', 300, 10.0)\n",
    "print(g1)\n",
    "print(g2)"
   ]
  },
  {
   "cell_type": "code",
   "execution_count": 37,
   "id": "0bb0e64d",
   "metadata": {},
   "outputs": [
    {
     "name": "stdout",
     "output_type": "stream",
     "text": [
      "[('Ana', 22), ('Janaina', 25), ('Pedro', 23), ('Ronaldo', 26)]\n",
      "[('Ana', 22), ('Pedro', 23), ('Janaina', 25), ('Ronaldo', 26)]\n"
     ]
    }
   ],
   "source": [
    "#Ordenando dicionários\n",
    "students = {'Pedro':23, 'Ana':22, 'Ronaldo':26, 'Janaina':25}\n",
    "a = sorted(students.items(), key=itemgetter(0))\n",
    "b = sorted(students.items(), key=itemgetter(1))\n",
    "print(a)\n",
    "print(b)"
   ]
  },
  {
   "cell_type": "code",
   "execution_count": 39,
   "id": "f654fb1d",
   "metadata": {},
   "outputs": [
    {
     "name": "stdout",
     "output_type": "stream",
     "text": [
      "deque([10, 20, 40, 60, 80])\n",
      "deque([20, 40, 60, 80])\n"
     ]
    }
   ],
   "source": [
    "#Utilizando uma fila em ambas extremidades\n",
    "deq = deque([20,40,60,80])\n",
    "deq.appendleft(10)\n",
    "print(deq)\n",
    "deq.append(90)\n",
    "deq.popleft()\n",
    "deq.pop()\n",
    "print(deq)"
   ]
  },
  {
   "cell_type": "code",
   "execution_count": 40,
   "id": "8e093e6b",
   "metadata": {},
   "outputs": [],
   "source": [
    "#Random\n",
    "import random"
   ]
  },
  {
   "cell_type": "code",
   "execution_count": 42,
   "id": "c1dafec6",
   "metadata": {},
   "outputs": [
    {
     "name": "stdout",
     "output_type": "stream",
     "text": [
      "2\n"
     ]
    }
   ],
   "source": [
    "#Seleciona valor aleatório de uma lista\n",
    "list1 = [7,6,4,3,2,1]\n",
    "print(random.choice(list1))"
   ]
  },
  {
   "cell_type": "code",
   "execution_count": 44,
   "id": "3cf5b3d8",
   "metadata": {},
   "outputs": [
    {
     "name": "stdout",
     "output_type": "stream",
     "text": [
      "7\n"
     ]
    }
   ],
   "source": [
    "#Gerar um número aleatório de um intervalo de valores\n",
    "r1 = random.randint(5,15)\n",
    "print(r1)"
   ]
  },
  {
   "cell_type": "code",
   "execution_count": 45,
   "id": "d6846b63",
   "metadata": {},
   "outputs": [
    {
     "name": "stdout",
     "output_type": "stream",
     "text": [
      "r\n"
     ]
    }
   ],
   "source": [
    "#Seleciona caractere aleatório de uma string\n",
    "name = 'Curso Ptython'\n",
    "r2 = random.choice(name)\n",
    "print(r2)"
   ]
  },
  {
   "cell_type": "code",
   "execution_count": 46,
   "id": "bd29b4a7",
   "metadata": {},
   "outputs": [
    {
     "name": "stdout",
     "output_type": "stream",
     "text": [
      "[2, 4]\n",
      "[4, 2, 6]\n"
     ]
    }
   ],
   "source": [
    "#Seleciona mais de um valor aleatório \n",
    "#random.sample(sequencia, tamanho)\n",
    "print(random.sample(list1, 2))\n",
    "print(random.sample(list1, 3))"
   ]
  },
  {
   "cell_type": "code",
   "execution_count": 47,
   "id": "1032e0a9",
   "metadata": {},
   "outputs": [
    {
     "name": "stdout",
     "output_type": "stream",
     "text": [
      "['d', 'á']\n"
     ]
    }
   ],
   "source": [
    "s = 'Olá Mundo'\n",
    "print(random.sample(s, 2))"
   ]
  },
  {
   "cell_type": "code",
   "execution_count": 48,
   "id": "c88d22ab",
   "metadata": {},
   "outputs": [
    {
     "name": "stdout",
     "output_type": "stream",
     "text": [
      "O que você deseja fazer?\n",
      "1 - Adivinha o número\n",
      "2 - sair\n",
      "Opção inválida. Escolha a opção 1 ou 2.\n",
      "O que você deseja fazer?\n",
      "1 - Adivinha o número\n",
      "2 - sair\n",
      "Adivinhe um número de 1 a 10\n",
      "Tente novamente. O número sorteado foi: 2\n",
      "O que você deseja fazer?\n",
      "1 - Adivinha o número\n",
      "2 - sair\n",
      "Opção inválida. Escolha a opção 1 ou 2.\n",
      "O que você deseja fazer?\n",
      "1 - Adivinha o número\n",
      "2 - sair\n",
      "Opção inválida. Escolha a opção 1 ou 2.\n",
      "O que você deseja fazer?\n",
      "1 - Adivinha o número\n",
      "2 - sair\n"
     ]
    }
   ],
   "source": [
    "#Progama de sorteio\n",
    "done = False\n",
    "while not done:\n",
    "    print('O que você deseja fazer?')\n",
    "    print('1 - Adivinha o número')\n",
    "    print('2 - sair')\n",
    "    \n",
    "    choice = input('>')\n",
    "    if choice == '1':\n",
    "        print('Adivinhe um número de 1 a 10')\n",
    "        number = int(input('Digite um número de 1 a 10'))\n",
    "        result = random.randint(1, 10)\n",
    "        if number == result:\n",
    "            print('Parabéns . Você acertou')\n",
    "        else:\n",
    "            print(f'Tente novamente. O número sorteado foi: {result}')\n",
    "    elif choice == '2':\n",
    "        done = True\n",
    "    else:\n",
    "        print('Opção inválida. Escolha a opção 1 ou 2.')"
   ]
  },
  {
   "cell_type": "code",
   "execution_count": 49,
   "id": "f81c1965",
   "metadata": {},
   "outputs": [],
   "source": [
    "#Tkinter\n",
    "import tkinter as tk"
   ]
  },
  {
   "cell_type": "code",
   "execution_count": 54,
   "id": "b6fd8ca7",
   "metadata": {},
   "outputs": [],
   "source": [
    "#Criando a janela\n",
    "window = tk.Tk()\n",
    "window.geometry('300x150')\n",
    "window.title('Gerencia Frases')\n",
    "\n",
    "#Adiciona um Frame\n",
    "frame = tk.Frame(window)\n",
    "frame.pack(padx=10,pady=10, fill='x', expand=True)\n",
    "\n",
    "#Adicionando o label\n",
    "label = tk.Label(frame, text='Olá mundo')\n",
    "label.pack(fill='x', expand=True)\n",
    "\n",
    "#Adicionando o input text\n",
    "frase_lab = tk.Label(frame, text='Frase')\n",
    "frase_lab.pack(fill='x', expand=True)\n",
    "\n",
    "frase_inp = tk.Entry(frame)\n",
    "frase_inp.pack(fill='x', expand=True)\n",
    "\n",
    "#Função para alterar o texto do label\n",
    "def click():\n",
    "    label.config(text=frase_inp.get())\n",
    "\n",
    "\n",
    "#Adicionar o botão\n",
    "button = tk.Button(frame, text='Enviar', command=click)\n",
    "button.pack()\n",
    "\n",
    "\n",
    "\n",
    "window.mainloop()"
   ]
  },
  {
   "cell_type": "code",
   "execution_count": null,
   "id": "a40695d3",
   "metadata": {},
   "outputs": [],
   "source": []
  }
 ],
 "metadata": {
  "kernelspec": {
   "display_name": "base",
   "language": "python",
   "name": "python3"
  },
  "language_info": {
   "codemirror_mode": {
    "name": "ipython",
    "version": 3
   },
   "file_extension": ".py",
   "mimetype": "text/x-python",
   "name": "python",
   "nbconvert_exporter": "python",
   "pygments_lexer": "ipython3",
   "version": "3.11.7"
  }
 },
 "nbformat": 4,
 "nbformat_minor": 5
}
