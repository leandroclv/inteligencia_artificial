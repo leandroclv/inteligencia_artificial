{
 "cells": [
  {
   "cell_type": "code",
   "execution_count": 4,
   "metadata": {},
   "outputs": [
    {
     "name": "stdout",
     "output_type": "stream",
     "text": [
      "Requirement already satisfied: import-ipynb in /home/leandroclv/anaconda3/lib/python3.11/site-packages (0.2)\n",
      "Requirement already satisfied: IPython in /home/leandroclv/anaconda3/lib/python3.11/site-packages (from import-ipynb) (8.20.0)\n",
      "Requirement already satisfied: nbformat in /home/leandroclv/anaconda3/lib/python3.11/site-packages (from import-ipynb) (5.9.2)\n",
      "Requirement already satisfied: decorator in /home/leandroclv/anaconda3/lib/python3.11/site-packages (from IPython->import-ipynb) (5.1.1)\n",
      "Requirement already satisfied: jedi>=0.16 in /home/leandroclv/anaconda3/lib/python3.11/site-packages (from IPython->import-ipynb) (0.18.1)\n",
      "Requirement already satisfied: matplotlib-inline in /home/leandroclv/anaconda3/lib/python3.11/site-packages (from IPython->import-ipynb) (0.1.6)\n",
      "Requirement already satisfied: prompt-toolkit<3.1.0,>=3.0.41 in /home/leandroclv/anaconda3/lib/python3.11/site-packages (from IPython->import-ipynb) (3.0.43)\n",
      "Requirement already satisfied: pygments>=2.4.0 in /home/leandroclv/anaconda3/lib/python3.11/site-packages (from IPython->import-ipynb) (2.15.1)\n",
      "Requirement already satisfied: stack-data in /home/leandroclv/anaconda3/lib/python3.11/site-packages (from IPython->import-ipynb) (0.2.0)\n",
      "Requirement already satisfied: traitlets>=5 in /home/leandroclv/anaconda3/lib/python3.11/site-packages (from IPython->import-ipynb) (5.7.1)\n",
      "Requirement already satisfied: pexpect>4.3 in /home/leandroclv/anaconda3/lib/python3.11/site-packages (from IPython->import-ipynb) (4.8.0)\n",
      "Requirement already satisfied: fastjsonschema in /home/leandroclv/anaconda3/lib/python3.11/site-packages (from nbformat->import-ipynb) (2.16.2)\n",
      "Requirement already satisfied: jsonschema>=2.6 in /home/leandroclv/anaconda3/lib/python3.11/site-packages (from nbformat->import-ipynb) (4.19.2)\n",
      "Requirement already satisfied: jupyter-core in /home/leandroclv/anaconda3/lib/python3.11/site-packages (from nbformat->import-ipynb) (5.5.0)\n",
      "Requirement already satisfied: parso<0.9.0,>=0.8.0 in /home/leandroclv/anaconda3/lib/python3.11/site-packages (from jedi>=0.16->IPython->import-ipynb) (0.8.3)\n",
      "Requirement already satisfied: attrs>=22.2.0 in /home/leandroclv/anaconda3/lib/python3.11/site-packages (from jsonschema>=2.6->nbformat->import-ipynb) (24.3.0)\n",
      "Requirement already satisfied: jsonschema-specifications>=2023.03.6 in /home/leandroclv/anaconda3/lib/python3.11/site-packages (from jsonschema>=2.6->nbformat->import-ipynb) (2023.7.1)\n",
      "Requirement already satisfied: referencing>=0.28.4 in /home/leandroclv/anaconda3/lib/python3.11/site-packages (from jsonschema>=2.6->nbformat->import-ipynb) (0.30.2)\n",
      "Requirement already satisfied: rpds-py>=0.7.1 in /home/leandroclv/anaconda3/lib/python3.11/site-packages (from jsonschema>=2.6->nbformat->import-ipynb) (0.10.6)\n",
      "Requirement already satisfied: ptyprocess>=0.5 in /home/leandroclv/anaconda3/lib/python3.11/site-packages (from pexpect>4.3->IPython->import-ipynb) (0.7.0)\n",
      "Requirement already satisfied: wcwidth in /home/leandroclv/anaconda3/lib/python3.11/site-packages (from prompt-toolkit<3.1.0,>=3.0.41->IPython->import-ipynb) (0.2.5)\n",
      "Requirement already satisfied: platformdirs>=2.5 in /home/leandroclv/anaconda3/lib/python3.11/site-packages (from jupyter-core->nbformat->import-ipynb) (3.10.0)\n",
      "Requirement already satisfied: executing in /home/leandroclv/anaconda3/lib/python3.11/site-packages (from stack-data->IPython->import-ipynb) (0.8.3)\n",
      "Requirement already satisfied: asttokens in /home/leandroclv/anaconda3/lib/python3.11/site-packages (from stack-data->IPython->import-ipynb) (2.0.5)\n",
      "Requirement already satisfied: pure-eval in /home/leandroclv/anaconda3/lib/python3.11/site-packages (from stack-data->IPython->import-ipynb) (0.2.2)\n",
      "Requirement already satisfied: six in /home/leandroclv/anaconda3/lib/python3.11/site-packages (from asttokens->stack-data->IPython->import-ipynb) (1.16.0)\n",
      "Note: you may need to restart the kernel to use updated packages.\n"
     ]
    }
   ],
   "source": [
    "%pip install import-ipynb"
   ]
  },
  {
   "cell_type": "code",
   "execution_count": 6,
   "metadata": {},
   "outputs": [],
   "source": [
    "import import_ipynb"
   ]
  },
  {
   "cell_type": "code",
   "execution_count": 9,
   "metadata": {},
   "outputs": [
    {
     "name": "stdout",
     "output_type": "stream",
     "text": [
      "15\n",
      "2.0\n"
     ]
    }
   ],
   "source": [
    "#Programa Principal\n",
    "#import math_operation\n",
    "from math_operation import multiply, divide\n",
    "\n",
    "#print(math_operation.soma(5,3))\n",
    "#print(math_operation.subtrat(5,3))\n",
    "print(multiply(5,3))\n",
    "print(divide(8,4))"
   ]
  },
  {
   "cell_type": "code",
   "execution_count": 11,
   "metadata": {},
   "outputs": [
    {
     "name": "stdout",
     "output_type": "stream",
     "text": [
      "Hello\n",
      "nohtyP\n",
      "5\n"
     ]
    }
   ],
   "source": [
    "import string_utilit\n",
    "print(string_utilit.capitalize('Hello'))\n",
    "print(string_utilit.reverse_string('Python'))\n",
    "print(string_utilit.count('apple'))"
   ]
  },
  {
   "cell_type": "code",
   "execution_count": 2,
   "metadata": {},
   "outputs": [],
   "source": [
    "import os"
   ]
  },
  {
   "cell_type": "code",
   "execution_count": null,
   "metadata": {},
   "outputs": [
    {
     "name": "stdout",
     "output_type": "stream",
     "text": [
      "/home/leandroclv/Documents/GitHub/inteligencia_artificial\n"
     ]
    }
   ],
   "source": [
    "#Consultar as funcionalidades do módulo os\n",
    "#Retornar a pasta atual\n",
    "print(os.getcwd())"
   ]
  },
  {
   "cell_type": "code",
   "execution_count": 4,
   "metadata": {},
   "outputs": [
    {
     "name": "stdout",
     "output_type": "stream",
     "text": [
      "['README.md', 'string_utilit.ipynb', 'LICENSE', '.git', '.gitattributes', 'first.ipynb', 'math_operation.ipynb', 'main.ipynb', 'detectface.zip']\n"
     ]
    }
   ],
   "source": [
    "#Listar arquivos e pastas\n",
    "print(os.listdir())"
   ]
  },
  {
   "cell_type": "code",
   "execution_count": 5,
   "metadata": {},
   "outputs": [
    {
     "name": "stderr",
     "output_type": "stream",
     "text": [
      "sh: 1: ver: not found\n"
     ]
    },
    {
     "data": {
      "text/plain": [
       "32512"
      ]
     },
     "execution_count": 5,
     "metadata": {},
     "output_type": "execute_result"
    }
   ],
   "source": [
    "#Versão do SO\n",
    "os.system('ver')"
   ]
  },
  {
   "cell_type": "code",
   "execution_count": 6,
   "metadata": {},
   "outputs": [
    {
     "name": "stderr",
     "output_type": "stream",
     "text": [
      "sh: 1: systeminfo: not found\n"
     ]
    },
    {
     "data": {
      "text/plain": [
       "32512"
      ]
     },
     "execution_count": 6,
     "metadata": {},
     "output_type": "execute_result"
    }
   ],
   "source": [
    "#Configurações da máquina\n",
    "os.system('systeminfo')"
   ]
  },
  {
   "cell_type": "code",
   "execution_count": 7,
   "metadata": {},
   "outputs": [
    {
     "name": "stderr",
     "output_type": "stream",
     "text": [
      "sh: 1: cls: not found\n"
     ]
    },
    {
     "data": {
      "text/plain": [
       "32512"
      ]
     },
     "execution_count": 7,
     "metadata": {},
     "output_type": "execute_result"
    }
   ],
   "source": [
    "#Limpar a tela do terminal\n",
    "os.system('cls')"
   ]
  },
  {
   "cell_type": "code",
   "execution_count": null,
   "metadata": {},
   "outputs": [],
   "source": []
  }
 ],
 "metadata": {
  "kernelspec": {
   "display_name": "base",
   "language": "python",
   "name": "python3"
  },
  "language_info": {
   "codemirror_mode": {
    "name": "ipython",
    "version": 3
   },
   "file_extension": ".py",
   "mimetype": "text/x-python",
   "name": "python",
   "nbconvert_exporter": "python",
   "pygments_lexer": "ipython3",
   "version": "3.11.7"
  }
 },
 "nbformat": 4,
 "nbformat_minor": 2
}
