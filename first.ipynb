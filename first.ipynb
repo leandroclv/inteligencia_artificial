{
 "cells": [
  {
   "cell_type": "code",
   "execution_count": 2,
   "metadata": {},
   "outputs": [
    {
     "name": "stdout",
     "output_type": "stream",
     "text": [
      "Hello World!\n"
     ]
    }
   ],
   "source": [
    "print('Hello World!')"
   ]
  },
  {
   "cell_type": "code",
   "execution_count": 3,
   "metadata": {},
   "outputs": [
    {
     "name": "stdout",
     "output_type": "stream",
     "text": [
      "Aprendendo a linguagem Python!\n"
     ]
    }
   ],
   "source": [
    "print('Aprendendo a linguagem Python!')"
   ]
  },
  {
   "cell_type": "code",
   "execution_count": 4,
   "metadata": {},
   "outputs": [
    {
     "name": "stdout",
     "output_type": "stream",
     "text": [
      "Isso irá aparecer\n"
     ]
    }
   ],
   "source": [
    "#Aprendemo Python\n",
    "'''\n",
    "    Python é diverto \n",
    "    e\n",
    "    fácil\n",
    "'''\n",
    "print('Isso irá aparecer')"
   ]
  },
  {
   "cell_type": "code",
   "execution_count": 7,
   "metadata": {},
   "outputs": [
    {
     "name": "stdout",
     "output_type": "stream",
     "text": [
      "Top Gun Maverick\n",
      "2023\n",
      "9.5\n",
      "False\n",
      "<class 'str'>\n"
     ]
    }
   ],
   "source": [
    "#Pythonflix\n",
    "name = 'Top Gun Maverick'\n",
    "year_Launch = 2023\n",
    "noteMovie = 9.5\n",
    "planIncluded = False\n",
    "\n",
    "print(name)\n",
    "print(year_Launch)\n",
    "print(noteMovie)\n",
    "print(planIncluded)\n",
    "print(type(name))"
   ]
  },
  {
   "cell_type": "code",
   "execution_count": 9,
   "metadata": {},
   "outputs": [
    {
     "name": "stdout",
     "output_type": "stream",
     "text": [
      "O filme digitado foi motoqueiros selvagens, do ano de 2015, levou a nota 9.2 e o plano incluso é True\n"
     ]
    }
   ],
   "source": [
    "#Utilizando input\n",
    "name = input('Digite o nome do filme:\\n')\n",
    "year_Launch = int(input('Digite o ano do filme:'))\n",
    "noteMovie = float(input('Digite a nota do filme'))\n",
    "planIncluded = bool(input('Digite plano incluso (True/False):'))\n",
    "print(f'O filme digitado foi {name}, do ano de {year_Launch}, levou a nota {noteMovie} e o plano incluso é {planIncluded}')\n"
   ]
  },
  {
   "cell_type": "code",
   "execution_count": 4,
   "metadata": {},
   "outputs": [
    {
     "name": "stdout",
     "output_type": "stream",
     "text": [
      "Os números digitados foram 25 e 5. \n",
      "A soma dos números é 30. \n",
      "A subtração dos números é 20. \n",
      "A multiplicação dos números é 125. \n",
      "A divisão dos números é 5.0. \n",
      "O módulo dos números é 0.\n",
      "O exponencial dos números é 9765625.\n"
     ]
    }
   ],
   "source": [
    "#Operadores aritmétricos\n",
    "num1 = int(input('Digite o primeiro número:\\n'))\n",
    "num2 = int(input('Digite o segundo número:\\n'))\n",
    "sum = num1 + num2\n",
    "sub = num1 - num2\n",
    "div = num1 / num2\n",
    "multi = num1 * num2\n",
    "mod = num1 % num2\n",
    "exp = num1 ** num2\n",
    "print(f'Os números digitados foram {num1} e {num2}. \\nA soma dos números é {sum}. \\nA subtração dos números é {sub}. \\nA multiplicação dos números é {multi}. \\nA divisão dos números é {div}. \\nO módulo dos números é {mod}.\\nO exponencial dos números é {exp}.')\n"
   ]
  },
  {
   "cell_type": "code",
   "execution_count": 2,
   "metadata": {},
   "outputs": [
    {
     "name": "stdout",
     "output_type": "stream",
     "text": [
      "O 1° número 45 é maior que o 2° número 23: True. \n",
      "O número 1 é menor que o número 2: False.\n",
      "O número 1 é igual ao número 2: False.\n",
      "O número 1 é diferente do número 2: True.\n",
      "O número 1 é maior ou igual ao número 2: True.\n",
      "O número 1 é menor ou igual ao número 2: False.\n"
     ]
    }
   ],
   "source": [
    "num3 = int(input('Digite o primeiro número:\\n'))\n",
    "num4 = int(input('Digite o segundo número:\\n'))\n",
    "bigger = num3 > num4\n",
    "smaller = num3 < num4\n",
    "equal = num3 == num4\n",
    "different = num3 != num4\n",
    "bigger_equal = num3 >= num4\n",
    "smaller_equal = num3 <= num4\n",
    "print(f'O 1° número {num3} é maior que o 2° número {num4}: {bigger}. \\nO número 1 é menor que o número 2: {smaller}.\\nO número 1 é igual ao número 2: {equal}.\\nO número 1 é diferente do número 2: {different}.\\nO número 1 é maior ou igual ao número 2: {bigger_equal}.\\nO número 1 é menor ou igual ao número 2: {smaller_equal}.')"
   ]
  },
  {
   "cell_type": "code",
   "execution_count": 9,
   "metadata": {},
   "outputs": [
    {
     "name": "stdout",
     "output_type": "stream",
     "text": [
      "False\n",
      "\n",
      "    Top Gun Maverick, é um filme de aviação e aventura\n",
      "    muito consagrado na indústria\n",
      "\n"
     ]
    }
   ],
   "source": [
    "#Strings\n",
    "mov1 = 'Top gun'\n",
    "mov2 = 'top gun'\n",
    "print(mov1 == mov2)\n",
    "\n",
    "movie_description = '''\n",
    "    Top Gun Maverick, é um filme de aviação e aventura\n",
    "    muito consagrado na indústria\n",
    "'''\n",
    "print(movie_description)"
   ]
  },
  {
   "cell_type": "code",
   "execution_count": 10,
   "metadata": {},
   "outputs": [
    {
     "name": "stdout",
     "output_type": "stream",
     "text": [
      "==================================================\n",
      "\n",
      "    Top Gun Maverick, é um filme de aviação e aventura\n",
      "    muito consagrado na indústria\n",
      "\n"
     ]
    }
   ],
   "source": [
    "line = '='\n",
    "print(line * 50)\n",
    "print(movie_description)"
   ]
  },
  {
   "cell_type": "code",
   "execution_count": 11,
   "metadata": {},
   "outputs": [
    {
     "name": "stdout",
     "output_type": "stream",
     "text": [
      "True\n",
      "True\n"
     ]
    }
   ],
   "source": [
    "print('top' in mov2)\n",
    "print('filme' in movie_description)"
   ]
  },
  {
   "cell_type": "code",
   "execution_count": 12,
   "metadata": {},
   "outputs": [
    {
     "name": "stdout",
     "output_type": "stream",
     "text": [
      "Top Gun\n",
      "Top Gun\n",
      "Top Gun\n",
      "p Gun\n",
      "TpGn\n",
      "o u\n",
      "nuG poT\n"
     ]
    }
   ],
   "source": [
    "movieName = 'Top Gun'\n",
    "print(movieName)\n",
    "print(movieName[0:])\n",
    "print(movieName[:7])\n",
    "print(movieName[2:])\n",
    "print(movieName[::2])\n",
    "print(movieName[1::2])\n",
    "print(movieName[::-1])"
   ]
  },
  {
   "cell_type": "code",
   "execution_count": 13,
   "metadata": {},
   "outputs": [
    {
     "name": "stdout",
     "output_type": "stream",
     "text": [
      "TOP GUN\n",
      "top gun\n",
      "Top gun\n",
      "Top Gun\n",
      "-Top Gun--\n",
      "5\n",
      "1\n",
      "Matrix Gun\n",
      "['\\n    Top Gun Maverick', ' é um filme de aviação e aventura\\n    muito consagrado na indústria\\n']\n"
     ]
    }
   ],
   "source": [
    "print(movieName.upper()) #Tudo maiúsculo\n",
    "print(movieName.lower()) #Tudo minúsculo\n",
    "print(movieName.capitalize()) #primeira letra maiúscula\n",
    "print(movieName.title()) #primeira letra maipuscula\n",
    "print(movieName.center(10, '-')) #Retorna string centralizada com caractere de preenchimento\n",
    "print(movieName.find('u')) #Retorna a posição de um determinado caracter\n",
    "print(movieName.find('o')) #Conta caracteres\n",
    "print(movieName.replace('Top', 'Matrix')) #Altera elemento por outro\n",
    "print(movie_description.split(','))"
   ]
  },
  {
   "cell_type": "code",
   "execution_count": 17,
   "metadata": {},
   "outputs": [
    {
     "name": "stdout",
     "output_type": "stream",
     "text": [
      "Verde, Leandro\n"
     ]
    }
   ],
   "source": [
    "#Exercício 01 - Escreva um programa que lê dois nomes e retorne uma string formatada no formato \"ÚltimoNome, PrimeiroNome.\"\n",
    "primeiroNome = input('Digite o seu primeiro nome: ')\n",
    "ultimoNome = input('Digite o seu último nome: ')\n",
    "print(f'{ultimoNome}, {primeiroNome}')"
   ]
  },
  {
   "cell_type": "code",
   "execution_count": null,
   "metadata": {},
   "outputs": [
    {
     "name": "stdout",
     "output_type": "stream",
     "text": [
      "barro de torta casa A "
     ]
    }
   ],
   "source": [
    "#Exercício 02 - Inverta a ordem das palavras em uma string fornecida\n",
    "frase = input('Digite uma frase')\n",
    "palavras = frase.split()\n",
    "reverse = ' '.join(palavras[::-1])\n",
    "print(reverse)"
   ]
  },
  {
   "cell_type": "code",
   "execution_count": 24,
   "metadata": {},
   "outputs": [
    {
     "name": "stdout",
     "output_type": "stream",
     "text": [
      "Esta palavra não é palíndroma\n"
     ]
    }
   ],
   "source": [
    "#Exercício 03 - Verifique se uma string fornecida é um palíndromo (pode ser lida da mesma forma de trás para frente).\n",
    "palavra = input('Digite uma palavra')\n",
    "if palavra == palavra[::-1]:\n",
    "    print('Esta palavra é palíndroma')\n",
    "else:\n",
    "    print('Esta palavra não é palíndroma')"
   ]
  },
  {
   "cell_type": "code",
   "execution_count": null,
   "metadata": {},
   "outputs": [],
   "source": []
  }
 ],
 "metadata": {
  "kernelspec": {
   "display_name": "base",
   "language": "python",
   "name": "python3"
  },
  "language_info": {
   "codemirror_mode": {
    "name": "ipython",
    "version": 3
   },
   "file_extension": ".py",
   "mimetype": "text/x-python",
   "name": "python",
   "nbconvert_exporter": "python",
   "pygments_lexer": "ipython3",
   "version": "3.11.7"
  }
 },
 "nbformat": 4,
 "nbformat_minor": 2
}
