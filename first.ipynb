{
 "cells": [
  {
   "cell_type": "code",
   "execution_count": 2,
   "metadata": {},
   "outputs": [
    {
     "name": "stdout",
     "output_type": "stream",
     "text": [
      "Hello World!\n"
     ]
    }
   ],
   "source": [
    "print('Hello World!')"
   ]
  },
  {
   "cell_type": "code",
   "execution_count": 3,
   "metadata": {},
   "outputs": [
    {
     "name": "stdout",
     "output_type": "stream",
     "text": [
      "Aprendendo a linguagem Python!\n"
     ]
    }
   ],
   "source": [
    "print('Aprendendo a linguagem Python!')"
   ]
  },
  {
   "cell_type": "code",
   "execution_count": 4,
   "metadata": {},
   "outputs": [
    {
     "name": "stdout",
     "output_type": "stream",
     "text": [
      "Isso irá aparecer\n"
     ]
    }
   ],
   "source": [
    "#Aprendemo Python\n",
    "'''\n",
    "    Python é diverto \n",
    "    e\n",
    "    fácil\n",
    "'''\n",
    "print('Isso irá aparecer')"
   ]
  },
  {
   "cell_type": "code",
   "execution_count": 7,
   "metadata": {},
   "outputs": [
    {
     "name": "stdout",
     "output_type": "stream",
     "text": [
      "Top Gun Maverick\n",
      "2023\n",
      "9.5\n",
      "False\n",
      "<class 'str'>\n"
     ]
    }
   ],
   "source": [
    "#Pythonflix\n",
    "name = 'Top Gun Maverick'\n",
    "year_Launch = 2023\n",
    "noteMovie = 9.5\n",
    "planIncluded = False\n",
    "\n",
    "print(name)\n",
    "print(year_Launch)\n",
    "print(noteMovie)\n",
    "print(planIncluded)\n",
    "print(type(name))"
   ]
  },
  {
   "cell_type": "code",
   "execution_count": 9,
   "metadata": {},
   "outputs": [
    {
     "name": "stdout",
     "output_type": "stream",
     "text": [
      "O filme digitado foi motoqueiros selvagens, do ano de 2015, levou a nota 9.2 e o plano incluso é True\n"
     ]
    }
   ],
   "source": [
    "#Utilizando input\n",
    "name = input('Digite o nome do filme:\\n')\n",
    "year_Launch = int(input('Digite o ano do filme:'))\n",
    "noteMovie = float(input('Digite a nota do filme'))\n",
    "planIncluded = bool(input('Digite plano incluso (True/False):'))\n",
    "print(f'O filme digitado foi {name}, do ano de {year_Launch}, levou a nota {noteMovie} e o plano incluso é {planIncluded}')\n"
   ]
  },
  {
   "cell_type": "code",
   "execution_count": null,
   "metadata": {},
   "outputs": [],
   "source": []
  }
 ],
 "metadata": {
  "kernelspec": {
   "display_name": "base",
   "language": "python",
   "name": "python3"
  },
  "language_info": {
   "codemirror_mode": {
    "name": "ipython",
    "version": 3
   },
   "file_extension": ".py",
   "mimetype": "text/x-python",
   "name": "python",
   "nbconvert_exporter": "python",
   "pygments_lexer": "ipython3",
   "version": "3.11.7"
  }
 },
 "nbformat": 4,
 "nbformat_minor": 2
}
