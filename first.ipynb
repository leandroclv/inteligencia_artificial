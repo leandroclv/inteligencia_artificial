{
 "cells": [
  {
   "cell_type": "code",
   "execution_count": 2,
   "metadata": {},
   "outputs": [
    {
     "name": "stdout",
     "output_type": "stream",
     "text": [
      "Hello World!\n"
     ]
    }
   ],
   "source": [
    "print('Hello World!')"
   ]
  },
  {
   "cell_type": "code",
   "execution_count": 3,
   "metadata": {},
   "outputs": [
    {
     "name": "stdout",
     "output_type": "stream",
     "text": [
      "Aprendendo a linguagem Python!\n"
     ]
    }
   ],
   "source": [
    "print('Aprendendo a linguagem Python!')"
   ]
  },
  {
   "cell_type": "code",
   "execution_count": 4,
   "metadata": {},
   "outputs": [
    {
     "name": "stdout",
     "output_type": "stream",
     "text": [
      "Isso irá aparecer\n"
     ]
    }
   ],
   "source": [
    "#Aprendemo Python\n",
    "'''\n",
    "    Python é diverto \n",
    "    e\n",
    "    fácil\n",
    "'''\n",
    "print('Isso irá aparecer')"
   ]
  },
  {
   "cell_type": "code",
   "execution_count": 7,
   "metadata": {},
   "outputs": [
    {
     "name": "stdout",
     "output_type": "stream",
     "text": [
      "Top Gun Maverick\n",
      "2023\n",
      "9.5\n",
      "False\n",
      "<class 'str'>\n"
     ]
    }
   ],
   "source": [
    "#Pythonflix\n",
    "name = 'Top Gun Maverick'\n",
    "year_Launch = 2023\n",
    "noteMovie = 9.5\n",
    "planIncluded = False\n",
    "\n",
    "print(name)\n",
    "print(year_Launch)\n",
    "print(noteMovie)\n",
    "print(planIncluded)\n",
    "print(type(name))"
   ]
  },
  {
   "cell_type": "code",
   "execution_count": 9,
   "metadata": {},
   "outputs": [
    {
     "name": "stdout",
     "output_type": "stream",
     "text": [
      "O filme digitado foi motoqueiros selvagens, do ano de 2015, levou a nota 9.2 e o plano incluso é True\n"
     ]
    }
   ],
   "source": [
    "#Utilizando input\n",
    "name = input('Digite o nome do filme:\\n')\n",
    "year_Launch = int(input('Digite o ano do filme:'))\n",
    "noteMovie = float(input('Digite a nota do filme'))\n",
    "planIncluded = bool(input('Digite plano incluso (True/False):'))\n",
    "print(f'O filme digitado foi {name}, do ano de {year_Launch}, levou a nota {noteMovie} e o plano incluso é {planIncluded}')\n"
   ]
  },
  {
   "cell_type": "code",
   "execution_count": 4,
   "metadata": {},
   "outputs": [
    {
     "name": "stdout",
     "output_type": "stream",
     "text": [
      "Os números digitados foram 25 e 5. \n",
      "A soma dos números é 30. \n",
      "A subtração dos números é 20. \n",
      "A multiplicação dos números é 125. \n",
      "A divisão dos números é 5.0. \n",
      "O módulo dos números é 0.\n",
      "O exponencial dos números é 9765625.\n"
     ]
    }
   ],
   "source": [
    "#Operadores aritmétricos\n",
    "num1 = int(input('Digite o primeiro número:\\n'))\n",
    "num2 = int(input('Digite o segundo número:\\n'))\n",
    "sum = num1 + num2\n",
    "sub = num1 - num2\n",
    "div = num1 / num2\n",
    "multi = num1 * num2\n",
    "mod = num1 % num2\n",
    "exp = num1 ** num2\n",
    "print(f'Os números digitados foram {num1} e {num2}. \\nA soma dos números é {sum}. \\nA subtração dos números é {sub}. \\nA multiplicação dos números é {multi}. \\nA divisão dos números é {div}. \\nO módulo dos números é {mod}.\\nO exponencial dos números é {exp}.')\n"
   ]
  },
  {
   "cell_type": "code",
   "execution_count": 2,
   "metadata": {},
   "outputs": [
    {
     "name": "stdout",
     "output_type": "stream",
     "text": [
      "O 1° número 45 é maior que o 2° número 23: True. \n",
      "O número 1 é menor que o número 2: False.\n",
      "O número 1 é igual ao número 2: False.\n",
      "O número 1 é diferente do número 2: True.\n",
      "O número 1 é maior ou igual ao número 2: True.\n",
      "O número 1 é menor ou igual ao número 2: False.\n"
     ]
    }
   ],
   "source": [
    "num3 = int(input('Digite o primeiro número:\\n'))\n",
    "num4 = int(input('Digite o segundo número:\\n'))\n",
    "bigger = num3 > num4\n",
    "smaller = num3 < num4\n",
    "equal = num3 == num4\n",
    "different = num3 != num4\n",
    "bigger_equal = num3 >= num4\n",
    "smaller_equal = num3 <= num4\n",
    "print(f'O 1° número {num3} é maior que o 2° número {num4}: {bigger}. \\nO número 1 é menor que o número 2: {smaller}.\\nO número 1 é igual ao número 2: {equal}.\\nO número 1 é diferente do número 2: {different}.\\nO número 1 é maior ou igual ao número 2: {bigger_equal}.\\nO número 1 é menor ou igual ao número 2: {smaller_equal}.')"
   ]
  },
  {
   "cell_type": "code",
   "execution_count": 9,
   "metadata": {},
   "outputs": [
    {
     "name": "stdout",
     "output_type": "stream",
     "text": [
      "False\n",
      "\n",
      "    Top Gun Maverick, é um filme de aviação e aventura\n",
      "    muito consagrado na indústria\n",
      "\n"
     ]
    }
   ],
   "source": [
    "#Strings\n",
    "mov1 = 'Top gun'\n",
    "mov2 = 'top gun'\n",
    "print(mov1 == mov2)\n",
    "\n",
    "movie_description = '''\n",
    "    Top Gun Maverick, é um filme de aviação e aventura\n",
    "    muito consagrado na indústria\n",
    "'''\n",
    "print(movie_description)"
   ]
  },
  {
   "cell_type": "code",
   "execution_count": 10,
   "metadata": {},
   "outputs": [
    {
     "name": "stdout",
     "output_type": "stream",
     "text": [
      "==================================================\n",
      "\n",
      "    Top Gun Maverick, é um filme de aviação e aventura\n",
      "    muito consagrado na indústria\n",
      "\n"
     ]
    }
   ],
   "source": [
    "line = '='\n",
    "print(line * 50)\n",
    "print(movie_description)"
   ]
  },
  {
   "cell_type": "code",
   "execution_count": 11,
   "metadata": {},
   "outputs": [
    {
     "name": "stdout",
     "output_type": "stream",
     "text": [
      "True\n",
      "True\n"
     ]
    }
   ],
   "source": [
    "print('top' in mov2)\n",
    "print('filme' in movie_description)"
   ]
  },
  {
   "cell_type": "code",
   "execution_count": 12,
   "metadata": {},
   "outputs": [
    {
     "name": "stdout",
     "output_type": "stream",
     "text": [
      "Top Gun\n",
      "Top Gun\n",
      "Top Gun\n",
      "p Gun\n",
      "TpGn\n",
      "o u\n",
      "nuG poT\n"
     ]
    }
   ],
   "source": [
    "movieName = 'Top Gun'\n",
    "print(movieName)\n",
    "print(movieName[0:])\n",
    "print(movieName[:7])\n",
    "print(movieName[2:])\n",
    "print(movieName[::2])\n",
    "print(movieName[1::2])\n",
    "print(movieName[::-1])"
   ]
  },
  {
   "cell_type": "code",
   "execution_count": 13,
   "metadata": {},
   "outputs": [
    {
     "name": "stdout",
     "output_type": "stream",
     "text": [
      "TOP GUN\n",
      "top gun\n",
      "Top gun\n",
      "Top Gun\n",
      "-Top Gun--\n",
      "5\n",
      "1\n",
      "Matrix Gun\n",
      "['\\n    Top Gun Maverick', ' é um filme de aviação e aventura\\n    muito consagrado na indústria\\n']\n"
     ]
    }
   ],
   "source": [
    "print(movieName.upper()) #Tudo maiúsculo\n",
    "print(movieName.lower()) #Tudo minúsculo\n",
    "print(movieName.capitalize()) #primeira letra maiúscula\n",
    "print(movieName.title()) #primeira letra maipuscula\n",
    "print(movieName.center(10, '-')) #Retorna string centralizada com caractere de preenchimento\n",
    "print(movieName.find('u')) #Retorna a posição de um determinado caracter\n",
    "print(movieName.find('o')) #Conta caracteres\n",
    "print(movieName.replace('Top', 'Matrix')) #Altera elemento por outro\n",
    "print(movie_description.split(','))"
   ]
  },
  {
   "cell_type": "code",
   "execution_count": 17,
   "metadata": {},
   "outputs": [
    {
     "name": "stdout",
     "output_type": "stream",
     "text": [
      "Verde, Leandro\n"
     ]
    }
   ],
   "source": [
    "#Exercício 01 - Escreva um programa que lê dois nomes e retorne uma string formatada no formato \"ÚltimoNome, PrimeiroNome.\"\n",
    "primeiroNome = input('Digite o seu primeiro nome: ')\n",
    "ultimoNome = input('Digite o seu último nome: ')\n",
    "print(f'{ultimoNome}, {primeiroNome}')"
   ]
  },
  {
   "cell_type": "code",
   "execution_count": 25,
   "metadata": {},
   "outputs": [
    {
     "name": "stdout",
     "output_type": "stream",
     "text": [
      "barro de torta casa A\n"
     ]
    }
   ],
   "source": [
    "#Exercício 02 - Inverta a ordem das palavras em uma string fornecida\n",
    "frase = input('Digite uma frase')\n",
    "palavras = frase.split()\n",
    "reverse = ' '.join(palavras[::-1])\n",
    "print(reverse)"
   ]
  },
  {
   "cell_type": "code",
   "execution_count": 24,
   "metadata": {},
   "outputs": [
    {
     "name": "stdout",
     "output_type": "stream",
     "text": [
      "Esta palavra não é palíndroma\n"
     ]
    }
   ],
   "source": [
    "#Exercício 03 - Verifique se uma string fornecida é um palíndromo (pode ser lida da mesma forma de trás para frente).\n",
    "palavra = input('Digite uma palavra')\n",
    "if palavra == palavra[::-1]:\n",
    "    print('Esta palavra é palíndroma')\n",
    "else:\n",
    "    print('Esta palavra não é palíndroma')"
   ]
  },
  {
   "cell_type": "code",
   "execution_count": 26,
   "metadata": {},
   "outputs": [
    {
     "name": "stdout",
     "output_type": "stream",
     "text": [
      "['Matrix', 1999, 8.7, True]\n"
     ]
    }
   ],
   "source": [
    "#Listas\n",
    "filmMatrix = ['Matrix', 1999, 8.7, True]\n",
    "print(filmMatrix)"
   ]
  },
  {
   "cell_type": "code",
   "execution_count": 27,
   "metadata": {},
   "outputs": [
    {
     "name": "stdout",
     "output_type": "stream",
     "text": [
      "['Inception', 'Top Gun']\n",
      "Interstellar\n",
      "['Inception', 'Top Gun', 'Robocop']\n",
      "['Top Gun', 'Robocop', 'Matrix']\n"
     ]
    }
   ],
   "source": [
    "film = ['Inception', 'Top Gun', 'Robocop', 'Matrix', 'Interstellar']\n",
    "print(film[:2])\n",
    "print(film[-1])\n",
    "print(film[:3])\n",
    "print(film[1:4])"
   ]
  },
  {
   "cell_type": "code",
   "execution_count": 28,
   "metadata": {},
   "outputs": [
    {
     "name": "stdout",
     "output_type": "stream",
     "text": [
      "5\n",
      "2\n",
      "['Inception', 'Top Gun', 'Robocop', 'Matrix', 'Interstellar', 'Moana']\n",
      "['Inception', 'Interstellar', 'Matrix', 'Moana', 'Robocop', 'Top Gun']\n",
      "['Inception', 'Interstellar', 'Matrix', 'Moana', 'Robocop']\n",
      "[]\n"
     ]
    }
   ],
   "source": [
    "print(len(film))\n",
    "print(film.index('Robocop'))\n",
    "film.append('Moana')\n",
    "print(film)\n",
    "film.sort()\n",
    "print(film)\n",
    "film2 = film.copy()\n",
    "film2.remove('Top Gun')\n",
    "print(film2)\n",
    "film2.clear()\n",
    "print(film2)"
   ]
  },
  {
   "cell_type": "code",
   "execution_count": 30,
   "metadata": {},
   "outputs": [
    {
     "name": "stdout",
     "output_type": "stream",
     "text": [
      "('Inception', 'Top Gun')\n",
      "Interstellar\n",
      "('Inception', 'Top Gun', 'Robocop')\n",
      "('Robocop', 'Matrix', 'Interstellar')\n",
      "3\n"
     ]
    }
   ],
   "source": [
    "#Tupla\n",
    "filmsT= ('Inception', 'Top Gun', 'Robocop', 'Matrix', 'Interstellar')\n",
    "print(filmsT[:2])\n",
    "print(filmsT[-1])\n",
    "print(filmsT[:3])\n",
    "print(filmsT[2:])\n",
    "print(filmsT.index('Matrix'))\n"
   ]
  },
  {
   "cell_type": "code",
   "execution_count": 31,
   "metadata": {},
   "outputs": [
    {
     "name": "stdout",
     "output_type": "stream",
     "text": [
      "5\n",
      "{8.7, True, 'Matrix'}\n"
     ]
    }
   ],
   "source": [
    "#Set\n",
    "filmsSet = {'Inception', 'Top Gun', 'Robocop', 'Matrix', 'Interstellar'}\n",
    "print(len(filmsSet))\n",
    "exampleSet = {'Matrix', True, 1, 8.7}\n",
    "print(exampleSet)"
   ]
  },
  {
   "cell_type": "code",
   "execution_count": 33,
   "metadata": {},
   "outputs": [
    {
     "name": "stdout",
     "output_type": "stream",
     "text": [
      "{'Robocop', True, 'Inception', 'Top Gun', 8.7, 'Interstellar', 'Matrix'}\n"
     ]
    }
   ],
   "source": [
    "filmsSet.update(exampleSet)\n",
    "print(filmsSet)"
   ]
  },
  {
   "cell_type": "code",
   "execution_count": 34,
   "metadata": {},
   "outputs": [
    {
     "name": "stdout",
     "output_type": "stream",
     "text": [
      "{'Robocop', 'Inception', 'Top Gun', 'Interstellar', 'Matrix'}\n"
     ]
    }
   ],
   "source": [
    "filmsSet.remove(True)\n",
    "filmsSet.remove(8.7)\n",
    "print(filmsSet)"
   ]
  },
  {
   "cell_type": "code",
   "execution_count": 35,
   "metadata": {},
   "outputs": [
    {
     "name": "stdout",
     "output_type": "stream",
     "text": [
      "{'title': 'Matrix', 'YearRElease': 1999, 'imbdRanting': 8, 'genre': ['sci-fi', 'Action', 'Thriller']}\n",
      "4\n"
     ]
    }
   ],
   "source": [
    "#Dicionários\n",
    "filmMatrix = {'title': 'Matrix', 'YearRElease': 1999, 'imbdRanting': 8, 'genre': ['sci-fi', 'Action', 'Thriller']}\n",
    "print(filmMatrix)\n",
    "print(len(filmMatrix))"
   ]
  },
  {
   "cell_type": "code",
   "execution_count": 42,
   "metadata": {},
   "outputs": [
    {
     "name": "stdout",
     "output_type": "stream",
     "text": [
      "['sci-fi', 'Action', 'Thriller']\n",
      "Matrix\n",
      "dict_keys(['title', 'YearRElease', 'imbdRanting', 'genre'])\n",
      "dict_values(['Matrix', 1999, 8, ['sci-fi', 'Action', 'Thriller']])\n",
      "dict_items([('title', 'Matrix'), ('YearRElease', 1999), ('imbdRanting', 8), ('genre', ['sci-fi', 'Action', 'Thriller'])])\n",
      "{'title': 'Matrix', 'YearRElease': 1999, 'imbdRanting': 8, 'genre': ['sci-fi', 'Action', 'Thriller'], 'actor': 'Keane Revels'}\n",
      "{'title': 'Top Gun', 'YearRElease': 1999, 'imbdRanting': 8, 'genre': ['sci-fi', 'Action', 'Thriller'], 'actor': 'Keane Revels'}\n",
      "{'title': 'Top Gun', 'imbdRanting': 8, 'genre': ['sci-fi', 'Action', 'Thriller'], 'actor': 'Keane Revels'}\n"
     ]
    }
   ],
   "source": [
    "print(filmMatrix['genre'])\n",
    "print(filmMatrix.get('title'))\n",
    "print(filmMatrix.keys())\n",
    "print(filmMatrix.values())\n",
    "print(filmMatrix.items())\n",
    "filmMatrix['actor'] = 'Keane Revels'\n",
    "print(filmMatrix)\n",
    "filmMatrix.update({'title': 'Top Gun'})\n",
    "print(filmMatrix)\n",
    "filmMatrix.pop('YearRElease')\n",
    "print(filmMatrix)"
   ]
  },
  {
   "cell_type": "code",
   "execution_count": 2,
   "metadata": {},
   "outputs": [
    {
     "name": "stdout",
     "output_type": "stream",
     "text": [
      "O filme outro filma  ainda não atingiu uma boa nota\n"
     ]
    }
   ],
   "source": [
    "#Condições\n",
    "name = input('Digite o nome do filme: ')\n",
    "yearRelease = int(input('Digite o ano de lançamento: '))\n",
    "rating = float(input('Digite a nota de avaliação do filme: '))\n",
    "if rating > 8.0 and yearRelease > 2015:\n",
    "    print(f'O filme {name} é muito bom. Recomendo assití-lo')\n",
    "else:\n",
    "    print(f'O filme {name} ainda não atingiu uma boa nota')"
   ]
  },
  {
   "cell_type": "code",
   "execution_count": 8,
   "metadata": {},
   "outputs": [
    {
     "name": "stdout",
     "output_type": "stream",
     "text": [
      "Operação impossível\n",
      "Resultado da operação é: 0.00\n"
     ]
    }
   ],
   "source": [
    "num1 = float(input('Digite o primeiro número: '))\n",
    "num2 = float(input('Digite o segundo número: '))\n",
    "operation = input('Digite a operação a ser realizada: (+ - * /): ')\n",
    "if operation == '+':\n",
    "    result = num1 + num2\n",
    "elif operation == '-':\n",
    "    result = num1 - num2\n",
    "elif operation == '*':\n",
    "    result = num1 * num2\n",
    "elif operation == '/':\n",
    "    if num2 == 0:\n",
    "        print('Operação impossível')\n",
    "        result = 0\n",
    "    else:\n",
    "        result = num1/num2\n",
    "else:\n",
    "    print('Operação inválida')\n",
    "    result = 0\n",
    "\n",
    "print(f'Resultado da operação é: {result:.2f}')"
   ]
  },
  {
   "cell_type": "code",
   "execution_count": null,
   "metadata": {},
   "outputs": [
    {
     "name": "stdout",
     "output_type": "stream",
     "text": [
      "Titanic\n",
      "The Godfather\n",
      "Inception\n",
      "Jurassic Park\n"
     ]
    }
   ],
   "source": [
    "#Loop for\n",
    "#Iterando valores de uma lista\n",
    "movieList = ['Titanic', 'The Godfather', 'Inception', 'Jurassic Park']\n",
    "for movie in movieList:\n",
    "    print(movie)"
   ]
  },
  {
   "cell_type": "code",
   "execution_count": null,
   "metadata": {},
   "outputs": [
    {
     "name": "stdout",
     "output_type": "stream",
     "text": [
      "Titanic\n",
      "The Godfather\n"
     ]
    }
   ],
   "source": [
    "#Quando a condição for atendida, o loop será encerrado\n",
    "for movie in movieList:\n",
    "    if movie == 'Inception':\n",
    "        break\n",
    "    print(movie)"
   ]
  },
  {
   "cell_type": "code",
   "execution_count": 11,
   "metadata": {},
   "outputs": [
    {
     "name": "stdout",
     "output_type": "stream",
     "text": [
      "Titanic\n",
      "The Godfather\n",
      "Jurassic Park\n"
     ]
    }
   ],
   "source": [
    "#Quando a condição for atendida, o loop vai para a próxima iteração\n",
    "for movie in movieList:\n",
    "    if movie == 'Inception':\n",
    "        continue\n",
    "    print(movie)"
   ]
  },
  {
   "cell_type": "code",
   "execution_count": 13,
   "metadata": {},
   "outputs": [
    {
     "name": "stdout",
     "output_type": "stream",
     "text": [
      "Média de avaliação do filme Mário Bros é: 9.00\n"
     ]
    }
   ],
   "source": [
    "#Avaliação do filme:\n",
    "movieName = input('Digite o nome do filme: ')\n",
    "movieRating = int(input('Digite quantas avaliações deseja fazer: '))\n",
    "total = 0\n",
    "for i in range(movieRating):\n",
    "    note = float(input('Digite a nota para o filme: '))\n",
    "    total += note\n",
    "    \n",
    "if movieRating > 0:\n",
    "    average = total/movieRating\n",
    "else:\n",
    "    average = 0\n",
    "    \n",
    "print(f'Média de avaliação do filme {movieName} é: {average:.2f}')"
   ]
  },
  {
   "cell_type": "code",
   "execution_count": 14,
   "metadata": {},
   "outputs": [
    {
     "name": "stdout",
     "output_type": "stream",
     "text": [
      "Titanic\n",
      "The Godfather\n",
      "Inception\n",
      "Jurassic Park\n"
     ]
    }
   ],
   "source": [
    "#Loop while\n",
    "#Iterando valores de uma lista de filmes usando o while\n",
    "index = 0\n",
    "while index < len(movieList):\n",
    "    print(movieList[index])\n",
    "    index +=1"
   ]
  },
  {
   "cell_type": "code",
   "execution_count": 16,
   "metadata": {},
   "outputs": [
    {
     "name": "stdout",
     "output_type": "stream",
     "text": [
      "Titanic\n",
      "The Godfather\n"
     ]
    }
   ],
   "source": [
    "#Quando a condição for atendida, o loop será encerado\n",
    "index = 0\n",
    "while index < len(movieList):\n",
    "    if movieList[index] == 'Inception':\n",
    "        break\n",
    "    else:\n",
    "        print(movieList[index])\n",
    "        index += 1"
   ]
  },
  {
   "cell_type": "code",
   "execution_count": 18,
   "metadata": {},
   "outputs": [
    {
     "name": "stdout",
     "output_type": "stream",
     "text": [
      "Titanic\n",
      "The Godfather\n",
      "Jurassic Park\n"
     ]
    }
   ],
   "source": [
    "#Quando a condição for atendida, o loop vai para a próxima iteração\n",
    "index = 0\n",
    "while index < len(movieList):\n",
    "    if movieList[index] == 'Inception':\n",
    "        index += 1\n",
    "        continue\n",
    "    else:\n",
    "        print(movieList[index])\n",
    "        index += 1"
   ]
  },
  {
   "cell_type": "code",
   "execution_count": 19,
   "metadata": {},
   "outputs": [
    {
     "name": "stdout",
     "output_type": "stream",
     "text": [
      "Média de avaliação do filme Super Mário Bros é: 6.65\n"
     ]
    }
   ],
   "source": [
    "#Avaliação do filme com o while\n",
    "movieName = input('Digite o nome do filme: ')\n",
    "movieRating = int(input('Digite quantas avaliações deseja fazer: '))\n",
    "total = 0\n",
    "count = 0\n",
    "while count < movieRating:\n",
    "    note = float(input('Digite a nota para o filme: '))\n",
    "    total += note\n",
    "    count += 1   \n",
    "if movieRating > 0:\n",
    "    average = total/movieRating\n",
    "else:\n",
    "    average = 0\n",
    "    \n",
    "print(f'Média de avaliação do filme {movieName} é: {average:.2f}')"
   ]
  },
  {
   "cell_type": "code",
   "execution_count": 21,
   "metadata": {},
   "outputs": [
    {
     "name": "stdout",
     "output_type": "stream",
     "text": [
      "[0, 1, 2, 3]\n"
     ]
    }
   ],
   "source": [
    "#List comprehension\n",
    "#Listando valores de 0 a 10 que sejam menores do que 4\n",
    "listNumber = [i for i in range(10) if i < 4]\n",
    "print(listNumber)"
   ]
  },
  {
   "cell_type": "code",
   "execution_count": null,
   "metadata": {},
   "outputs": [
    {
     "name": "stdout",
     "output_type": "stream",
     "text": [
      "['The Godfather', 'Inception']\n"
     ]
    }
   ],
   "source": [
    "#Filmes que possuem a letra 'e' no título\n",
    "moviesWe = [movie for movie in movieList if 'e' in movie.lower()]\n",
    "print(moviesWe)"
   ]
  },
  {
   "cell_type": "code",
   "execution_count": 23,
   "metadata": {},
   "outputs": [
    {
     "name": "stdout",
     "output_type": "stream",
     "text": [
      "['Titanic', 'The Godfather', 'Inception']\n"
     ]
    }
   ],
   "source": [
    "#Filmes que assisti\n",
    "movieSee = [movie for movie in movieList if movie != 'Jurassic Park']\n",
    "print(movieSee)"
   ]
  },
  {
   "cell_type": "code",
   "execution_count": null,
   "metadata": {},
   "outputs": [
    {
     "name": "stdout",
     "output_type": "stream",
     "text": [
      "Nenhum filme foi encontrado com o nome {searchName}\n",
      "Filme(s) encontrado(s) com o nome: tit: \n",
      "Titanic\n",
      "Nenhum filme foi encontrado com o nome {searchName}\n",
      "Filme(s) encontrado(s) com o nome: god: \n",
      "The Godfather\n",
      "Programa encerrado\n"
     ]
    }
   ],
   "source": [
    "#Encontrar um filme pelo nome\n",
    "while True:\n",
    "    searchName = input(\"Digite o nome de um filme para buscar na lista (ou sair pra encerrar): \")\n",
    "    if searchName.lower() == 'sair':\n",
    "        print('Programa encerrado')\n",
    "        break\n",
    "    else:\n",
    "        foundMovies = [movie for movie in movieList if searchName.lower() in movie.lower()]\n",
    "        if foundMovies:\n",
    "            print(f'Filme(s) encontrado(s) com o nome: {searchName}: ')\n",
    "            for foundMovie in foundMovies:\n",
    "                print(foundMovie)\n",
    "        else:\n",
    "            print(f'Nenhum filme foi encontrado com o nome {searchName}')"
   ]
  },
  {
   "cell_type": "code",
   "execution_count": 27,
   "metadata": {},
   "outputs": [],
   "source": [
    "#Funções\n",
    "def welcome():\n",
    "    print('Bem vindo ao sistema de filmes!')"
   ]
  },
  {
   "cell_type": "code",
   "execution_count": 28,
   "metadata": {},
   "outputs": [
    {
     "name": "stdout",
     "output_type": "stream",
     "text": [
      "Bem vindo ao sistema de filmes!\n"
     ]
    }
   ],
   "source": [
    "welcome()"
   ]
  },
  {
   "cell_type": "code",
   "execution_count": 29,
   "metadata": {},
   "outputs": [
    {
     "name": "stdout",
     "output_type": "stream",
     "text": [
      "Bem vindo ao sistema de filmes!\n",
      "Bem vindo ao sistema de filmes!\n",
      "Bem vindo ao sistema de filmes!\n",
      "Bem vindo ao sistema de filmes!\n",
      "Bem vindo ao sistema de filmes!\n"
     ]
    }
   ],
   "source": [
    "for i in range(5):\n",
    "    welcome()"
   ]
  },
  {
   "cell_type": "code",
   "execution_count": 30,
   "metadata": {},
   "outputs": [],
   "source": [
    "def calc_average():\n",
    "    num_rating = int(input('Digite quantas avaliações deseja fazer pro filme: '))\n",
    "    total = 0\n",
    "    for i in range(num_rating):\n",
    "        note = float(input('Digite a nota para o filme: '))\n",
    "        total += note\n",
    "        \n",
    "    if num_rating > 0:\n",
    "        average = total/num_rating\n",
    "    else:\n",
    "        average = 0\n",
    "    return average"
   ]
  },
  {
   "cell_type": "code",
   "execution_count": 32,
   "metadata": {},
   "outputs": [
    {
     "data": {
      "text/plain": [
       "8.0"
      ]
     },
     "execution_count": 32,
     "metadata": {},
     "output_type": "execute_result"
    }
   ],
   "source": [
    "calc_average()"
   ]
  },
  {
   "cell_type": "code",
   "execution_count": 33,
   "metadata": {},
   "outputs": [],
   "source": [
    "def create_movie():\n",
    "    name = input('Digite o nome: ')\n",
    "    year_Launch = int(input('Digite o lançamento do filme: '))\n",
    "    moviePrice = float(input('Digite o preço do filme: '))\n",
    "    rating = float(input(\"Digite a nota do filme: \"))\n",
    "    print(f'{name} ({year_Launch}) - R${moviePrice:.2f}')"
   ]
  },
  {
   "cell_type": "code",
   "execution_count": 34,
   "metadata": {},
   "outputs": [
    {
     "name": "stdout",
     "output_type": "stream",
     "text": [
      "Mario Bros (2023) - R$34.50\n"
     ]
    }
   ],
   "source": [
    "create_movie()"
   ]
  },
  {
   "cell_type": "code",
   "execution_count": null,
   "metadata": {},
   "outputs": [],
   "source": []
  }
 ],
 "metadata": {
  "kernelspec": {
   "display_name": "base",
   "language": "python",
   "name": "python3"
  },
  "language_info": {
   "codemirror_mode": {
    "name": "ipython",
    "version": 3
   },
   "file_extension": ".py",
   "mimetype": "text/x-python",
   "name": "python",
   "nbconvert_exporter": "python",
   "pygments_lexer": "ipython3",
   "version": "3.11.7"
  }
 },
 "nbformat": 4,
 "nbformat_minor": 2
}
